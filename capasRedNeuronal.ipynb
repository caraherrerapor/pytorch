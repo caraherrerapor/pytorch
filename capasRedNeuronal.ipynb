{
  "nbformat": 4,
  "nbformat_minor": 0,
  "metadata": {
    "colab": {
      "name": "capasRedNeuronal.ipynb",
      "provenance": [],
      "authorship_tag": "ABX9TyPOY+btj6f5njDqD9bjQukH",
      "include_colab_link": true
    },
    "kernelspec": {
      "name": "python3",
      "display_name": "Python 3"
    }
  },
  "cells": [
    {
      "cell_type": "markdown",
      "metadata": {
        "id": "view-in-github",
        "colab_type": "text"
      },
      "source": [
        "<a href=\"https://colab.research.google.com/github/caraherrerapor/pytorch/blob/master/capasRedNeuronal.ipynb\" target=\"_parent\"><img src=\"https://colab.research.google.com/assets/colab-badge.svg\" alt=\"Open In Colab\"/></a>"
      ]
    },
    {
      "cell_type": "code",
      "metadata": {
        "id": "L7_6zhfgEtoH"
      },
      "source": [
        "import torch\n",
        "import torch.nn as nn\n",
        "\n",
        "\n",
        "linear = nn.Linear(in_features =4096,out_features=10)#tensores de dimension uno\n",
        "conv = nn.Conv2d(in_channels=3,out_channels=9,kernel_size=3,stride=1,padding = 1) # modifica los canales, no modifica el tamaño imagen\n",
        "relu = nn.ReLU(False)"
      ],
      "execution_count": 3,
      "outputs": []
    },
    {
      "cell_type": "code",
      "metadata": {
        "colab": {
          "base_uri": "https://localhost:8080/"
        },
        "id": "nhLnWPSJJNjs",
        "outputId": "b30e9466-b823-494c-80c5-08738f012796"
      },
      "source": [
        "x = torch.randn(4096)\n",
        "y = linear(x)\n",
        "y.size()"
      ],
      "execution_count": 4,
      "outputs": [
        {
          "output_type": "execute_result",
          "data": {
            "text/plain": [
              "torch.Size([10])"
            ]
          },
          "metadata": {
            "tags": []
          },
          "execution_count": 4
        }
      ]
    },
    {
      "cell_type": "code",
      "metadata": {
        "id": "aDoaIgEtJvhH"
      },
      "source": [
        "x = torch.randn([1,3,7,7])\n",
        "y = conv(x)\n",
        "z = relu(x)"
      ],
      "execution_count": 5,
      "outputs": []
    },
    {
      "cell_type": "code",
      "metadata": {
        "colab": {
          "base_uri": "https://localhost:8080/"
        },
        "id": "0MDHk7_dKHcD",
        "outputId": "b8b488ed-4e36-4091-d2dc-752d4d5a978d"
      },
      "source": [
        "y.size()"
      ],
      "execution_count": 6,
      "outputs": [
        {
          "output_type": "execute_result",
          "data": {
            "text/plain": [
              "torch.Size([1, 9, 7, 7])"
            ]
          },
          "metadata": {
            "tags": []
          },
          "execution_count": 6
        }
      ]
    },
    {
      "cell_type": "code",
      "metadata": {
        "id": "OTIh3HMBKMOw"
      },
      "source": [
        ""
      ],
      "execution_count": null,
      "outputs": []
    }
  ]
}