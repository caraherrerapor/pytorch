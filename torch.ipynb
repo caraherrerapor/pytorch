{
  "nbformat": 4,
  "nbformat_minor": 0,
  "metadata": {
    "colab": {
      "name": "torch.ipynb",
      "provenance": [],
      "authorship_tag": "ABX9TyNGEYCrUXzKCzdowim+KsqH",
      "include_colab_link": true
    },
    "kernelspec": {
      "name": "python3",
      "display_name": "Python 3"
    }
  },
  "cells": [
    {
      "cell_type": "markdown",
      "metadata": {
        "id": "view-in-github",
        "colab_type": "text"
      },
      "source": [
        "<a href=\"https://colab.research.google.com/github/caraherrerapor/pytorch/blob/master/torch.ipynb\" target=\"_parent\"><img src=\"https://colab.research.google.com/assets/colab-badge.svg\" alt=\"Open In Colab\"/></a>"
      ]
    },
    {
      "cell_type": "code",
      "metadata": {
        "id": "flNjKZORkZr0"
      },
      "source": [
        "\n",
        "import torch\n",
        "import numpy as np"
      ],
      "execution_count": 34,
      "outputs": []
    },
    {
      "cell_type": "code",
      "metadata": {
        "colab": {
          "base_uri": "https://localhost:8080/"
        },
        "id": "kGgaFK6EkiRk",
        "outputId": "786ecdbd-b0ea-4d93-98c5-f103b2a2914c"
      },
      "source": [
        "#construir matrix de 5x3\n",
        "x = torch.empty(5,3)\n",
        "print(x)\n"
      ],
      "execution_count": 11,
      "outputs": [
        {
          "output_type": "stream",
          "text": [
            "tensor([[3.2704e-36, 0.0000e+00, 2.3694e-38],\n",
            "        [9.9812e+27, 1.9433e-19, 3.3738e-12],\n",
            "        [7.4086e+28, 6.9397e+22, 1.7260e+25],\n",
            "        [2.2856e+20, 5.0948e-14, 6.9397e+22],\n",
            "        [1.7260e+25, 2.2856e+20, 5.0948e-14]])\n"
          ],
          "name": "stdout"
        }
      ]
    },
    {
      "cell_type": "code",
      "metadata": {
        "colab": {
          "base_uri": "https://localhost:8080/"
        },
        "id": "SqaU4C_nk0-_",
        "outputId": "faca0854-7b9a-4344-c2c4-cc2f9b029478"
      },
      "source": [
        "#construir matriz aleatoria\n",
        "\n",
        "x= torch.rand(5,3)\n",
        "x"
      ],
      "execution_count": 13,
      "outputs": [
        {
          "output_type": "execute_result",
          "data": {
            "text/plain": [
              "tensor([[0.2314, 0.9316, 0.7780],\n",
              "        [0.6343, 0.0449, 0.5266],\n",
              "        [0.9222, 0.3427, 0.1013],\n",
              "        [0.9869, 0.9867, 0.1329],\n",
              "        [0.7611, 0.9808, 0.6110]])"
            ]
          },
          "metadata": {
            "tags": []
          },
          "execution_count": 13
        }
      ]
    },
    {
      "cell_type": "code",
      "metadata": {
        "colab": {
          "base_uri": "https://localhost:8080/"
        },
        "id": "txCOAc3ElCKR",
        "outputId": "8ee81aca-0112-44d3-d9f7-3640f2d7cec2"
      },
      "source": [
        "#construir una matrix con ceros\n",
        "\n",
        "\n",
        "x = torch.zeros(5, 3 ,dtype=torch.long)\n",
        "x"
      ],
      "execution_count": 18,
      "outputs": [
        {
          "output_type": "execute_result",
          "data": {
            "text/plain": [
              "tensor([[0, 0, 0],\n",
              "        [0, 0, 0],\n",
              "        [0, 0, 0],\n",
              "        [0, 0, 0],\n",
              "        [0, 0, 0]])"
            ]
          },
          "metadata": {
            "tags": []
          },
          "execution_count": 18
        }
      ]
    },
    {
      "cell_type": "code",
      "metadata": {
        "colab": {
          "base_uri": "https://localhost:8080/"
        },
        "id": "pMHKmc2QlOC5",
        "outputId": "5227edbc-a033-47c6-aa77-00964b86c8d6"
      },
      "source": [
        "# construir directamente un tensor\n",
        "x = torch.tensor([5.5,3])\n",
        "x"
      ],
      "execution_count": 20,
      "outputs": [
        {
          "output_type": "execute_result",
          "data": {
            "text/plain": [
              "tensor([5.5000, 3.0000])"
            ]
          },
          "metadata": {
            "tags": []
          },
          "execution_count": 20
        }
      ]
    },
    {
      "cell_type": "code",
      "metadata": {
        "colab": {
          "base_uri": "https://localhost:8080/"
        },
        "id": "xt7WgpYslqFe",
        "outputId": "5be92fc2-c2f5-44c8-f8f2-a80b645a5eda"
      },
      "source": [
        "print(x.size())"
      ],
      "execution_count": 22,
      "outputs": [
        {
          "output_type": "stream",
          "text": [
            "torch.Size([2])\n"
          ],
          "name": "stdout"
        }
      ]
    },
    {
      "cell_type": "code",
      "metadata": {
        "colab": {
          "base_uri": "https://localhost:8080/"
        },
        "id": "fD5Tm4cElxxL",
        "outputId": "63713d2c-d48c-40d3-af36-21b2e4bcc913"
      },
      "source": [
        "x = torch.rand(5,3)\n",
        "y = torch.rand(5,3)\n",
        "\n",
        "print(x)\n",
        "print()\n",
        "print(y)\n",
        "print()\n",
        "sum = x+y\n",
        "print(sum)"
      ],
      "execution_count": 26,
      "outputs": [
        {
          "output_type": "stream",
          "text": [
            "tensor([[0.8252, 0.2143, 0.5715],\n",
            "        [0.6386, 0.8723, 0.8870],\n",
            "        [0.9846, 0.3845, 0.8156],\n",
            "        [0.3741, 0.0645, 0.4279],\n",
            "        [0.4043, 0.3810, 0.7867]])\n",
            "\n",
            "tensor([[0.3251, 0.3989, 0.4973],\n",
            "        [0.5596, 0.2522, 0.3012],\n",
            "        [0.8612, 0.6271, 0.7171],\n",
            "        [0.3535, 0.0291, 0.7446],\n",
            "        [0.6205, 0.4087, 0.3572]])\n",
            "\n",
            "tensor([[1.1503, 0.6132, 1.0688],\n",
            "        [1.1981, 1.1246, 1.1882],\n",
            "        [1.8458, 1.0117, 1.5327],\n",
            "        [0.7276, 0.0936, 1.1725],\n",
            "        [1.0248, 0.7897, 1.1439]])\n"
          ],
          "name": "stdout"
        }
      ]
    },
    {
      "cell_type": "code",
      "metadata": {
        "colab": {
          "base_uri": "https://localhost:8080/"
        },
        "id": "Vh2Mho7Fl9g8",
        "outputId": "ad1df7b9-d703-485b-ae42-cde8e9be3e59"
      },
      "source": [
        "#otra forma de sumar en torch\n",
        "\n",
        "sum = torch.add(x,y)\n",
        "sum\n",
        "\n"
      ],
      "execution_count": 28,
      "outputs": [
        {
          "output_type": "execute_result",
          "data": {
            "text/plain": [
              "tensor([[1.1503, 0.6132, 1.0688],\n",
              "        [1.1981, 1.1246, 1.1882],\n",
              "        [1.8458, 1.0117, 1.5327],\n",
              "        [0.7276, 0.0936, 1.1725],\n",
              "        [1.0248, 0.7897, 1.1439]])"
            ]
          },
          "metadata": {
            "tags": []
          },
          "execution_count": 28
        }
      ]
    },
    {
      "cell_type": "code",
      "metadata": {
        "colab": {
          "base_uri": "https://localhost:8080/"
        },
        "id": "_5gdn5MfoRxW",
        "outputId": "0386f6e9-db6e-476f-b8cb-57f3bf8b25ed"
      },
      "source": [
        "# tomar filas de o columnas de un tensor\n",
        "\n",
        "#columna\n",
        "print(\"tensor = \",x)\n",
        "print()\n",
        "print(x[:,1])\n",
        "print(x[:,2])\n",
        "#fila\n",
        "\n",
        "print(x[0,:])\n",
        "print(x[3,:])"
      ],
      "execution_count": 33,
      "outputs": [
        {
          "output_type": "stream",
          "text": [
            "tensor =  tensor([[0.8252, 0.2143, 0.5715],\n",
            "        [0.6386, 0.8723, 0.8870],\n",
            "        [0.9846, 0.3845, 0.8156],\n",
            "        [0.3741, 0.0645, 0.4279],\n",
            "        [0.4043, 0.3810, 0.7867]])\n",
            "\n",
            "tensor([0.2143, 0.8723, 0.3845, 0.0645, 0.3810])\n",
            "tensor([0.5715, 0.8870, 0.8156, 0.4279, 0.7867])\n",
            "tensor([0.8252, 0.2143, 0.5715])\n",
            "tensor([0.3741, 0.0645, 0.4279])\n"
          ],
          "name": "stdout"
        }
      ]
    },
    {
      "cell_type": "code",
      "metadata": {
        "id": "BCFRVAMNom__"
      },
      "source": [
        ""
      ],
      "execution_count": null,
      "outputs": []
    }
  ]
}