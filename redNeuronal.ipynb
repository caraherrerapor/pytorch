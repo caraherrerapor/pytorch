{
  "nbformat": 4,
  "nbformat_minor": 0,
  "metadata": {
    "colab": {
      "name": "redNeuronal.ipynb",
      "provenance": [],
      "authorship_tag": "ABX9TyP6XRz43Qev/YUqmtX0CKX1",
      "include_colab_link": true
    },
    "kernelspec": {
      "name": "python3",
      "display_name": "Python 3"
    }
  },
  "cells": [
    {
      "cell_type": "markdown",
      "metadata": {
        "id": "view-in-github",
        "colab_type": "text"
      },
      "source": [
        "<a href=\"https://colab.research.google.com/github/caraherrerapor/pytorch/blob/master/redNeuronal.ipynb\" target=\"_parent\"><img src=\"https://colab.research.google.com/assets/colab-badge.svg\" alt=\"Open In Colab\"/></a>"
      ]
    },
    {
      "cell_type": "code",
      "metadata": {
        "id": "lvu0haPMC2Xz"
      },
      "source": [
        "import torch\n",
        "import torch.nn as nn\n",
        "import torch.nn.functional as F # capa sin parametros"
      ],
      "execution_count": 1,
      "outputs": []
    },
    {
      "cell_type": "code",
      "metadata": {
        "id": "MnX8WCw-DJYu"
      },
      "source": [
        "# la red debe tener dos metodos un init y forward\n",
        "# el metodo init se debe definir todas las capas\n",
        "class Net(nn.Module):\n",
        "  def__init__(self,num_channels):\n",
        "    # inicializa la clase padre\n",
        "    super(Net,self).__init__()\n",
        "    self.num_channels = num_channels\n",
        "    #estructura convulacional\n",
        "    self.conv1 = nn.Conv2d(3,self.num_channels,3,stride=1,padding =1)\n",
        "    self.conv2 = nn.Conv2d(self.num_channels,self.num_channels*2,3,stride=1,padding =1)\n",
        "    self.conv3 = nn.Conv2d(self.num_channels*2,self.num_channels*4,3,stride=1,padding =1)\n",
        "\n",
        "    self.fc1 = \n",
        "    self.fc2 = \n",
        "\n",
        "  def forward(self,x):\n",
        "    #empieza 3x64x66\n",
        "    x= self.conv1(x)\n"
      ],
      "execution_count": null,
      "outputs": []
    }
  ]
}