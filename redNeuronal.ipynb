{
  "nbformat": 4,
  "nbformat_minor": 0,
  "metadata": {
    "colab": {
      "name": "redNeuronal.ipynb",
      "provenance": [],
      "authorship_tag": "ABX9TyO9Ahj7qc5QK5wz3LLoxvAw",
      "include_colab_link": true
    },
    "kernelspec": {
      "name": "python3",
      "display_name": "Python 3"
    }
  },
  "cells": [
    {
      "cell_type": "markdown",
      "metadata": {
        "id": "view-in-github",
        "colab_type": "text"
      },
      "source": [
        "<a href=\"https://colab.research.google.com/github/caraherrerapor/pytorch/blob/master/redNeuronal.ipynb\" target=\"_parent\"><img src=\"https://colab.research.google.com/assets/colab-badge.svg\" alt=\"Open In Colab\"/></a>"
      ]
    },
    {
      "cell_type": "code",
      "metadata": {
        "id": "lvu0haPMC2Xz"
      },
      "source": [
        "import torch\n",
        "import torch.nn as nn\n",
        "import torch.nn.functional as F # capa sin parametros"
      ],
      "execution_count": 2,
      "outputs": []
    },
    {
      "cell_type": "code",
      "metadata": {
        "id": "MnX8WCw-DJYu"
      },
      "source": [
        "# la red debe tener dos metodos un init y forward\n",
        "# el metodo init se debe definir todas las capas\n",
        "class Net(nn.Module):\n",
        "  def__init__(self,num_channels):\n",
        "    # inicializa la clase padre\n",
        "    super(Net,self).__init__()"
      ],
      "execution_count": null,
      "outputs": []
    }
  ]
}